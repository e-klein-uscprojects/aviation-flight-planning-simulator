{
 "cells": [
  {
   "cell_type": "markdown",
   "source": [
    "# Flight Plan Generator\n",
    "\n",
    "This notebook simulates flight routing, fuel estimation, and weather-based decision logic using synthetic operational data. The workflow reflects structured planning logic adapted from commercial and agricultural flight operations, including turbine-class aircraft such as the Citation CJ3."
   ]
  },
  {
   "cell_type": "code",
   "source": [
    "# Import libraries\n",
    "import pandas as pd\n",
    "import numpy as np"
   ]
  },
  {
   "cell_type": "markdown",
   "source": [
    "## Step 1: Load Aircraft Profiles"
   ]
  },
  {
   "cell_type": "code",
   "source": [
    "# Load aircraft performance data\n",
    "aircraft_df = pd.read_csv('../data/aircraft_profiles.csv')\n",
    "aircraft_df"
   ]
  },
  {
   "cell_type": "markdown",
   "source": [
    "## Step 2: Load Weather Forecasts"
   ]
  },
  {
   "cell_type": "code",
   "source": [
    "# Load simulated weather data\n",
    "weather_df = pd.read_csv('../data/sample_weather_forecast.csv')\n",
    "weather_df"
   ]
  },
  {
   "cell_type": "markdown",
   "source": [
    "## Step 3: Define Route Distance (Example)"
   ]
  },
  {
   "cell_type": "code",
   "source": [
    "# Example route: KSQL to KMRY (San Carlos to Monterey)\n",
    "route_distance_nm = 85  # nautical miles"
   ]
  },
  {
   "cell_type": "markdown",
   "source": [
    "## Step 4: Estimate Fuel Burn for CJ3"
   ]
  },
  {
   "cell_type": "code",
   "source": [
    "# Select CJ3 profile\n",
    "cj3 = aircraft_df[aircraft_df['AircraftType'] == 'CitationCJ3'].iloc[0]\n",
    "\n",
    "# Fuel burn rate in gallons per hour\n",
    "burn_rate_gph = cj3['FuelBurnRate']\n",
    "cruise_speed = cj3['CruiseSpeed']  # knots\n",
    "\n",
    "# Estimate time en route (hours)\n",
    "time_enroute_hr = route_distance_nm / cruise_speed\n",
    "\n",
    "# Base fuel estimate\n",
    "base_fuel_gal = burn_rate_gph * time_enroute_hr\n",
    "print(f\"Estimated fuel burn for CJ3: {base_fuel_gal:.2f} gallons\")"
   ]
  },
  {
   "cell_type": "markdown",
   "source": [
    "## Step 5: Adjust Fuel for Weather Impact"
   ]
  },
  {
   "cell_type": "code",
   "source": [
    "# Get weather at destination\n",
    "destination_weather = weather_df[weather_df['AirportCode'] == 'KMRY'].iloc[0]\n",
    "\n",
    "# Adjust fuel for wind and precipitation\n",
    "wind_factor = 1.05 if destination_weather['WindSpeed'] > 15 else 1.00\n",
    "precip_factor = 1.10 if destination_weather['Precipitation'] != 'None' else 1.00\n",
    "\n",
    "# Final fuel estimate\n",
    "adjusted_fuel_gal = base_fuel_gal * wind_factor * precip_factor\n",
    "print(f\"Adjusted fuel burn with weather impact: {adjusted_fuel_gal:.2f} gallons\")"
   ]
  },
  {
   "cell_type": "markdown",
   "source": [
    "## Step 6: Flag Visibility Risk"
   ]
  },
  {
   "cell_type": "code",
   "source": [
    "# Visibility threshold (in statute miles)\n",
    "low_visibility = destination_weather['Visibility'] < 5.0\n",
    "if low_visibility:\n",
    "    print(\"⚠️ Visibility at destination is below minimums. Consider alternate planning.\")\n",
    "else:\n",
    "    print(\"✅ Visibility acceptable for planned arrival.\")"
   ]
  },
  {
   "cell_type": "markdown",
   "source": [
    "## Summary\n",
    "\n",
    "This simulation reflects structured flight planning logic for turbine-class aircraft. The CJ3 profile was used to estimate fuel burn, adjusted for wind and precipitation, and evaluated against visibility thresholds. While simplified, the workflow mirrors the kind of operational judgment exercised during real-world flight preparation."
   ]
  }
 ],
 "metadata": {
  "kernelspec": {
   "name": "python3",
   "display_name": "Python 3"
  },
  "language_info": {
   "name": "python"
  }
 },
 "nbformat": 4,
 "nbformat_minor": 2
}

