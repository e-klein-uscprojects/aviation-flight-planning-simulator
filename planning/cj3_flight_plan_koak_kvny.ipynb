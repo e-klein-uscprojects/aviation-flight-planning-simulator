{
  "nbformat": 4,
  "nbformat_minor": 0,
  "metadata": {
    "colab": {
      "provenance": [],
      "authorship_tag": "ABX9TyO60Y5UE7xZJ9E3QCNzDe1t",
      "include_colab_link": true
    },
    "kernelspec": {
      "name": "python3",
      "display_name": "Python 3"
    },
    "language_info": {
      "name": "python"
    }
  },
  "cells": [
    {
      "cell_type": "markdown",
      "metadata": {
        "id": "view-in-github",
        "colab_type": "text"
      },
      "source": [
        "<a href=\"https://colab.research.google.com/github/e-klein-uscprojects/aviation-flight-planning-simulator/blob/main/planning/cj3_flight_plan_koak_kvny.ipynb\" target=\"_parent\"><img src=\"https://colab.research.google.com/assets/colab-badge.svg\" alt=\"Open In Colab\"/></a>"
      ]
    },
    {
      "cell_type": "code",
      "execution_count": null,
      "metadata": {
        "colab": {
          "base_uri": "https://localhost:8080/"
        },
        "id": "uzRaw3v6Cvyv",
        "outputId": "a8d9c14f-8e21-48d1-e60e-b0a01cb228a1"
      },
      "outputs": [
        {
          "output_type": "stream",
          "name": "stdout",
          "text": [
            "Base Fuel Burn Estimate (CJ3): 30.65 gallons\n",
            "Adjusted Fuel Estimate (Weather Impact): 30.65 gallons\n",
            "✅ Visibility acceptable for arrival.\n",
            "\n",
            "Flight planning logic executed successfully for Citation CJ3.\n",
            "Origin: KSQL → Destination: KMRY\n",
            "Route Distance: 85 NM\n",
            "Time Enroute: 0.20 hours\n",
            "Final Fuel Estimate: 30.65 gallons\n"
          ]
        }
      ],
      "source": [
        "# Flight Plan Generator – Citation CJ3 Simulation\n",
        "\n",
        "# ✈️ Step 1: Import Libraries\n",
        "import pandas as pd\n",
        "import numpy as np\n",
        "\n",
        "# ✈️ Step 2: Load Aircraft Profile Dataset\n",
        "aircraft_data = pd.DataFrame({\n",
        "    'AircraftType': ['Cessna172', 'AgCat', 'PiperPA34', 'CitationCJ3'],\n",
        "    'CruiseSpeed': [120, 100, 150, 416],         # knots\n",
        "    'FuelBurnRate': [8.5, 12.0, 13.2, 150],      # gallons/hour\n",
        "    'MaxRange': [500, 300, 700, 2040]            # nautical miles\n",
        "})\n",
        "\n",
        "# ✈️ Step 3: Load Simulated Weather Data\n",
        "weather_data = pd.DataFrame({\n",
        "    'AirportCode': ['KSQL', 'KSTS', 'KMRY'],\n",
        "    'WindSpeed': [10, 22, 6],                    # knots\n",
        "    'Visibility': [9.0, 4.0, 10.0],              # statute miles\n",
        "    'Precipitation': ['None', 'Rain', 'None']\n",
        "})\n",
        "\n",
        "# ✈️ Step 4: Define Route\n",
        "origin = 'KSQL'\n",
        "destination = 'KMRY'\n",
        "route_distance = 85  # nautical miles\n",
        "\n",
        "# ✈️ Step 5: Select Aircraft – CJ3\n",
        "cj3 = aircraft_data[aircraft_data['AircraftType'] == 'CitationCJ3'].iloc[0]\n",
        "cruise_speed = cj3['CruiseSpeed']\n",
        "fuel_burn_rate = cj3['FuelBurnRate']\n",
        "\n",
        "# ✈️ Step 6: Calculate Base Fuel Burn\n",
        "time_enroute = route_distance / cruise_speed\n",
        "base_fuel = fuel_burn_rate * time_enroute\n",
        "print(f\"Base Fuel Burn Estimate (CJ3): {base_fuel:.2f} gallons\")\n",
        "\n",
        "# ✈️ Step 7: Adjust for Weather at Destination\n",
        "destination_weather = weather_data[weather_data['AirportCode'] == destination].iloc[0]\n",
        "wind_adjustment = 1.05 if destination_weather['WindSpeed'] > 15 else 1.00\n",
        "precip_adjustment = 1.10 if destination_weather['Precipitation'] != 'None' else 1.00\n",
        "adjusted_fuel = base_fuel * wind_adjustment * precip_adjustment\n",
        "print(f\"Adjusted Fuel Estimate (Weather Impact): {adjusted_fuel:.2f} gallons\")\n",
        "\n",
        "# ✈️ Step 8: Flag Visibility Risk\n",
        "if destination_weather['Visibility'] < 5.0:\n",
        "    print(\"⚠️ Visibility at destination is below minimums. Consider alternate planning.\")\n",
        "else:\n",
        "    print(\"✅ Visibility acceptable for arrival.\")\n",
        "\n",
        "# ✈️ Summary\n",
        "print(\"\\nFlight planning logic executed successfully for Citation CJ3.\")\n",
        "print(f\"Origin: {origin} → Destination: {destination}\")\n",
        "print(f\"Route Distance: {route_distance} NM\")\n",
        "print(f\"Time Enroute: {time_enroute:.2f} hours\")\n",
        "print(f\"Final Fuel Estimate: {adjusted_fuel:.2f} gallons\")\n"
      ]
    },
    {
      "cell_type": "code",
      "source": [
        "# CJ3 Flight Plan: Oakland to Van Nuys\n",
        "\n",
        "# Step 1: Load Aircraft Performance Data\n",
        "import pandas as pd\n",
        "import numpy as np\n",
        "\n",
        "aircraft_df = pd.DataFrame({\n",
        "    'AircraftType': ['Cessna172', 'AgCat', 'PiperPA34', 'CitationCJ3'],\n",
        "    'CruiseSpeed': [120, 100, 150, 416],\n",
        "    'FuelBurnRate': [8.5, 12.0, 13.2, 150],\n",
        "    'MaxRange': [500, 300, 700, 2040]\n",
        "})\n",
        "\n",
        "# Step 2: Weather Data (Add KOAK and KVNY)\n",
        "weather_df = pd.DataFrame({\n",
        "    'AirportCode': ['KOAK', 'KVNY'],\n",
        "    'WindSpeed': [18, 10],                  # knots\n",
        "    'Visibility': [8.0, 4.5],               # statute miles\n",
        "    'Precipitation': ['None', 'Rain']\n",
        "})\n",
        "\n",
        "# Step 3: Define Route\n",
        "origin = 'KOAK'\n",
        "destination = 'KVNY'\n",
        "route_distance = 296  # NM\n",
        "\n",
        "# Step 4: Select CJ3 Profile\n",
        "cj3 = aircraft_df[aircraft_df['AircraftType'] == 'CitationCJ3'].iloc[0]\n",
        "cruise_speed = cj3['CruiseSpeed']\n",
        "fuel_burn_rate = cj3['FuelBurnRate']\n",
        "\n",
        "# Step 5: Base Fuel Calculation\n",
        "time_enroute = route_distance / cruise_speed\n",
        "base_fuel = fuel_burn_rate * time_enroute\n",
        "print(f\"🛫 Base Fuel Estimate (CJ3): {base_fuel:.2f} gallons\")\n",
        "\n",
        "# Step 6: Weather Impact at Destination\n",
        "dest_weather = weather_df[weather_df['AirportCode'] == destination].iloc[0]\n",
        "wind_adj = 1.05 if dest_weather['WindSpeed'] > 15 else 1.00\n",
        "precip_adj = 1.10 if dest_weather['Precipitation'] != 'None' else 1.00\n",
        "adjusted_fuel = base_fuel * wind_adj * precip_adj\n",
        "print(f\"🌦️ Adjusted Fuel (Weather Impact): {adjusted_fuel:.2f} gallons\")\n",
        "\n",
        "# Step 7: Visibility Check\n",
        "if dest_weather['Visibility'] < 5.0:\n",
        "    print(\"⚠️ Visibility at KVNY is below minimums. Recommend alternate planning.\")\n",
        "else:\n",
        "    print(\"✅ Visibility acceptable for arrival.\")\n",
        "\n",
        "# Step 8: Final Summary\n",
        "print(\"\\n📋 CJ3 Flight Plan Summary\")\n",
        "print(f\"Route: {origin} → {destination}\")\n",
        "print(f\"Distance: {route_distance} NM\")\n",
        "print(f\"Time Enroute: {time_enroute:.2f} hrs\")\n",
        "print(f\"Final Fuel Estimate: {adjusted_fuel:.2f} gallons\")\n"
      ],
      "metadata": {
        "colab": {
          "base_uri": "https://localhost:8080/"
        },
        "id": "7Z2oEpHoDLXh",
        "outputId": "3d1cc5a4-01e7-455e-c33e-d51bf67dcdc6"
      },
      "execution_count": null,
      "outputs": [
        {
          "output_type": "stream",
          "name": "stdout",
          "text": [
            "🛫 Base Fuel Estimate (CJ3): 106.73 gallons\n",
            "🌦️ Adjusted Fuel (Weather Impact): 117.40 gallons\n",
            "⚠️ Visibility at KVNY is below minimums. Recommend alternate planning.\n",
            "\n",
            "📋 CJ3 Flight Plan Summary\n",
            "Route: KOAK → KVNY\n",
            "Distance: 296 NM\n",
            "Time Enroute: 0.71 hrs\n",
            "Final Fuel Estimate: 117.40 gallons\n"
          ]
        }
      ]
    },
    {
      "cell_type": "code",
      "source": [],
      "metadata": {
        "id": "5r7kEtkFEru9"
      },
      "execution_count": null,
      "outputs": []
    }
  ]
}